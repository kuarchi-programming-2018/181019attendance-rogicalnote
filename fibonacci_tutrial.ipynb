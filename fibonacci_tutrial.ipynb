{
 "cells": [
  {
   "cell_type": "markdown",
   "metadata": {},
   "source": [
    "# フィボナッチ数の課題をゆっくりやります\n",
    "$n$番目のフィボナッチ数を$F(n)$で表す。\n",
    "この時の関数$F(n)$を`def fib(n):`に続けて実装してみてください。\n",
    "ただし$$F(0) = 0, F(1) = 1, F(n) = F(n-1) + F(n-2) (n >= 2)$$とします。\n",
    "最初は自分の頭で考えてみて，5分～15分考えてわからなければ検索・相談しましょう。\n",
    "なるべく処理が早いほうがいい。\n",
    "n=2018のときいくつか。\n"
   ]
  },
  {
   "cell_type": "markdown",
   "metadata": {},
   "source": [
    "まず，$F(10)$までを手計算で計算して見ましょう。\n",
    "次に，それをプログラミングしてみましょう。"
   ]
  },
  {
   "cell_type": "code",
   "execution_count": null,
   "metadata": {},
   "outputs": [],
   "source": [
    "a_0 = 0\n",
    "a_1 = 1\n",
    "a_2 = a_1 + a_0\n",
    "a_3 = a_2 + a_2\n",
    "\n",
    "# ここにa_10までを計算するように書く\n",
    "a_4=a_3+a_2\n",
    "a_5=a_4+a_3\n",
    "a_6=a_5+a_4\n",
    "a_7=a_6+a_5\n",
    "a_8=a_7+a_6\n",
    "a_9=a_8+a_7\n",
    "a_10=a_9+a_8\n",
    "print(a_10)"
   ]
  },
  {
   "cell_type": "markdown",
   "metadata": {},
   "source": [
    "繰り返し部分をforループで書いてみましょう。"
   ]
  },
  {
   "cell_type": "code",
   "execution_count": null,
   "metadata": {},
   "outputs": [],
   "source": [
    "# range関数がどのような出力なのか確認\n",
    "print(list(range(10)))\n",
    "print(list(range(2, 11)))"
   ]
  },
  {
   "cell_type": "code",
   "execution_count": null,
   "metadata": {},
   "outputs": [],
   "source": [
    "a_0 = 0\n",
    "a_1 = 1\n",
    "\n",
    "x=a_0\n",
    "y=a_1\n",
    "z=y+x\n",
    "#このforループの中を編集してやってみましょう。\n",
    "for i in range(3, 11):\n",
    "    x=y\n",
    "    y=z\n",
    "    z=y+x\n",
    "    print(z)\n",
    "\n",
    "#a_10 = a_i\n",
    "#print(a_10)"
   ]
  },
  {
   "cell_type": "markdown",
   "metadata": {},
   "source": [
    "nまで計算できるように編集してみましょう。\n"
   ]
  },
  {
   "cell_type": "code",
   "execution_count": null,
   "metadata": {},
   "outputs": [],
   "source": [
    "#ここにプログラムを書く\n",
    "a_0=0\n",
    "a_1=1\n",
    "a_2=a_1+a_0\n",
    "\n",
    "n=10\n",
    "for i in range(n-1):\n",
    "    a_0=a_1\n",
    "    a_1=a_2\n",
    "    a_2=a_1+a_0\n",
    "    print(\"f(\" + str(i+3) +\")=\" +str(a_2))"
   ]
  },
  {
   "cell_type": "markdown",
   "metadata": {},
   "source": [
    "defを使って関数にしてみましょう。"
   ]
  },
  {
   "cell_type": "code",
   "execution_count": null,
   "metadata": {},
   "outputs": [],
   "source": [
    "n=10\n",
    "def fib(n):\n",
    "    #ここにプログラムを書く\n",
    "    a_0=0\n",
    "    a_1=1\n",
    "    a_2=a_1+a_0\n",
    "    for i in range(n):\n",
    "        a_0=a_1\n",
    "        a_1=a_2\n",
    "        a_2=a_1+a_0\n",
    "        #print(\"f(\" + str(i+3) +\")=\" +str(a_2))\n",
    "        a_n=a_2\n",
    "    return a_n\n",
    "\n",
    "print(\"fib(\"+ str(n) + \")=\"+str(fib(n)))"
   ]
  },
  {
   "cell_type": "markdown",
   "metadata": {},
   "source": [
    "リストを使ってやってみましょう"
   ]
  },
  {
   "cell_type": "code",
   "execution_count": null,
   "metadata": {},
   "outputs": [],
   "source": [
    "def fib_list(n):  \n",
    "    result = [0, 1]\n",
    "    #ここにプログラムを書く\n",
    "    for i in range(2,n+1):\n",
    "        result.append(result[-1] + result[-2])\n",
    "    return result\n",
    "print(fib_list(10))"
   ]
  },
  {
   "cell_type": "markdown",
   "metadata": {},
   "source": [
    "$m$以下で最大のフィボナッチ数の$n$を求める関数を`argfib(m)`という名前でつくる\n",
    "m=2018のときいくつか。"
   ]
  },
  {
   "cell_type": "markdown",
   "metadata": {},
   "source": [
    "まずは先ほど作った関数を用いてwhileループを使ってやってみましょう。"
   ]
  },
  {
   "cell_type": "code",
   "execution_count": null,
   "metadata": {},
   "outputs": [],
   "source": [
    "m = 100\n",
    "i = 0\n",
    "a_i = 1\n",
    "while a_j<=m:\n",
    "    #ここにプログラムを書く\n",
    "    i+=1\n",
    "    print(i,a_i)\n",
    "    a_i=fib(i)\n",
    "print(\"answe is\"+i-1,fib(i-1))"
   ]
  },
  {
   "cell_type": "markdown",
   "metadata": {},
   "source": [
    "他の書き方もやってみましょう。"
   ]
  }
 ],
 "metadata": {
  "kernelspec": {
   "display_name": "Python 3",
   "language": "python",
   "name": "python3"
  },
  "language_info": {
   "codemirror_mode": {
    "name": "ipython",
    "version": 3
   },
   "file_extension": ".py",
   "mimetype": "text/x-python",
   "name": "python",
   "nbconvert_exporter": "python",
   "pygments_lexer": "ipython3",
   "version": "3.7.0"
  }
 },
 "nbformat": 4,
 "nbformat_minor": 2
}
